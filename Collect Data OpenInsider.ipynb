{
 "cells": [
  {
   "cell_type": "code",
   "execution_count": 1,
   "id": "be0ebabf-a9da-44ac-9ce1-1e0fa5b6f222",
   "metadata": {},
   "outputs": [],
   "source": [
    "import pandas as pd\n",
    "import requests\n",
    "from bs4 import BeautifulSoup\n",
    "import re"
   ]
  },
  {
   "cell_type": "markdown",
   "id": "4807029b-f2cb-4f58-916d-6de61b3276e9",
   "metadata": {},
   "source": [
    "Read CSV input"
   ]
  },
  {
   "cell_type": "code",
   "execution_count": 2,
   "id": "579723db-0daa-48e3-9f8e-f63c4022d2a6",
   "metadata": {},
   "outputs": [],
   "source": [
    "# Replace 'your_file.csv' with the path to your CSV file\n",
    "file_path = 'sp500-companies.csv'\n",
    "\n",
    "encoding = 'latin-1'  # Change this to the appropriate encoding\n",
    "\n",
    "# Read the CSV file into a DataFrame with the specified encoding\n",
    "df = pd.read_csv(file_path, encoding=encoding)"
   ]
  },
  {
   "cell_type": "markdown",
   "id": "175bf003-0993-4c31-81c4-70665e107f3a",
   "metadata": {},
   "source": [
    "Convert CSV column Tickers into list"
   ]
  },
  {
   "cell_type": "code",
   "execution_count": 3,
   "id": "3bde8c3e-eebe-4cb5-9d2c-ab7d84e90c57",
   "metadata": {},
   "outputs": [],
   "source": [
    "# Extract all values from 'Column A' and store them in a list\n",
    "companies = df['Ticker'].tolist()"
   ]
  },
  {
   "cell_type": "code",
   "execution_count": 4,
   "id": "54f2bdd6-cdb9-4356-8a02-5b54634beb48",
   "metadata": {},
   "outputs": [
    {
     "data": {
      "text/plain": [
       "503"
      ]
     },
     "execution_count": 4,
     "metadata": {},
     "output_type": "execute_result"
    }
   ],
   "source": [
    "len(companies)"
   ]
  },
  {
   "cell_type": "markdown",
   "id": "9d319e89-364c-4324-89a0-fb02d99b5467",
   "metadata": {},
   "source": [
    "Read Buy/Sale Data"
   ]
  },
  {
   "cell_type": "code",
   "execution_count": 5,
   "id": "055098bf-f23b-4b27-9a1c-4634251a9a83",
   "metadata": {},
   "outputs": [],
   "source": [
    "base_url = \"http://openinsider.com/screener?s=\"\n",
    "\n",
    "end_url = \"&o=&pl=&ph=&ll=&lh=&fd=-1&fdr=01%2F01%2F2012+-+11%2F09%2F2023&td=0&tdr=&fdlyl=&fdlyh=&daysago=&xp=1&xs=1&vl=&vh=&ocl=&och=&sic1=-1&sicl=100&sich=9999&grp=0&nfl=&nfh=&nil=&nih=&nol=&noh=&v2l=&v2h=&oc2l=&oc2h=&sortcol=0&cnt=1000&page=1\"\n",
    "# create user agent\n",
    "user_agent = \"Mozilla/5.0 (Macintosh; Intel Mac OS X 10_12_3) AppleWebKit/5\\\n",
    "    37.36 (KHTML, like Gecko) Chrome/56.0.2924.87 Safari/537.36\""
   ]
  },
  {
   "cell_type": "code",
   "execution_count": 17,
   "id": "7cb4f3b4-963b-499e-aa5e-dfb4d46174b2",
   "metadata": {},
   "outputs": [],
   "source": [
    "def get_page(ticker, count=0):\n",
    "    url = base_url + ticker + end_url\n",
    "    # Some pages don't work without headers. See robots.txt\n",
    "    page_ = requests.get(url, headers={\"User-Agent\": user_agent})\n",
    "\n",
    "    if not page_.ok:  # Only requests 2XX are valid\n",
    "        if count >= 5:\n",
    "            raise Exception(f\"Could not get page {self.url}\")\n",
    "        sleep(randint(1, 5))\n",
    "        get_page(count+1)\n",
    "\n",
    "    return page_"
   ]
  },
  {
   "cell_type": "code",
   "execution_count": 18,
   "id": "2d55abff-a56c-4528-b41e-5b5153b22867",
   "metadata": {},
   "outputs": [],
   "source": [
    "def get_soup(page):\n",
    "    soup_ = BeautifulSoup(page.text, features=\"html.parser\")\n",
    "    return soup_"
   ]
  },
  {
   "cell_type": "code",
   "execution_count": 46,
   "id": "3b86902e-d867-44b2-a33e-18037d6ea76c",
   "metadata": {},
   "outputs": [],
   "source": [
    "def get_rows(soup):\n",
    "    try:\n",
    "        rows = soup.find('table', {'class': 'tinytable'}).find('tbody').findAll('tr')\n",
    "    except:\n",
    "        # Rare case when an Ticker has no information\n",
    "        return\n",
    "    return rows"
   ]
  },
  {
   "cell_type": "code",
   "execution_count": 38,
   "id": "371e82af-f9af-4727-91ba-999b50035ffb",
   "metadata": {},
   "outputs": [],
   "source": [
    "def clean_rows(rows, ticker_entry):\n",
    "    records = []\n",
    "    for val in rows:\n",
    "        cols = val.findAll('td')\n",
    "        if not cols:\n",
    "            continue\n",
    "        insider_data = {key: cols[index].find('a').text.strip() if cols[index].find('a') else cols[index].text.strip() \n",
    "                        for index, key in enumerate(['transaction_date', 'trade_date', 'ticker', 'company_name', \n",
    "                                                     'owner_name', 'Title', 'transaction_type', 'last_price', 'Qty', \n",
    "                                                     'shares_held', 'Owned', 'Value'])}\n",
    "        records.append(tuple(insider_data.values()))\n",
    "    return records"
   ]
  },
  {
   "cell_type": "code",
   "execution_count": 49,
   "id": "b53ab576-2c7b-4eb7-8466-2f6c2930df96",
   "metadata": {},
   "outputs": [
    {
     "name": "stdout",
     "output_type": "stream",
     "text": [
      "50\n",
      "100\n",
      "150\n",
      "200\n",
      "250\n",
      "300\n",
      "350\n",
      "400\n",
      "450\n"
     ]
    }
   ],
   "source": [
    "openinsider = []\n",
    "counter = 0\n",
    "for company in companies:\n",
    "    page = get_page(company)\n",
    "    soup = get_soup(page)\n",
    "    rows = get_rows(soup)\n",
    "    if rows is not None:\n",
    "        records = clean_rows(rows, company)\n",
    "        openinsider += records\n",
    "        counter+=1\n",
    "        if counter % 50 == 0:\n",
    "            print(counter) # For time managemente"
   ]
  },
  {
   "cell_type": "code",
   "execution_count": 50,
   "id": "6d6f0840-61f7-4887-a2ee-75a9cfd0cccc",
   "metadata": {},
   "outputs": [
    {
     "data": {
      "text/plain": [
       "107835"
      ]
     },
     "execution_count": 50,
     "metadata": {},
     "output_type": "execute_result"
    }
   ],
   "source": [
    "len(openinsider)"
   ]
  },
  {
   "cell_type": "code",
   "execution_count": 53,
   "id": "f3939d6b-a709-49da-a7f0-bd54e0939d5a",
   "metadata": {},
   "outputs": [],
   "source": [
    "# Define column names\n",
    "columns = ['transaction_date', 'trade_date', 'ticker', 'company_name', 'owner_name', 'Title', 'transaction_type', 'last_price', 'Qty', 'shares_held', 'Owned', 'Value']\n",
    "\n",
    "# Create DataFrame\n",
    "df_output = pd.DataFrame(openinsider, columns=columns)"
   ]
  },
  {
   "cell_type": "code",
   "execution_count": 54,
   "id": "7a460cff-77c0-4260-aeec-8d826edbd6c0",
   "metadata": {},
   "outputs": [
    {
     "data": {
      "text/html": [
       "<div>\n",
       "<style scoped>\n",
       "    .dataframe tbody tr th:only-of-type {\n",
       "        vertical-align: middle;\n",
       "    }\n",
       "\n",
       "    .dataframe tbody tr th {\n",
       "        vertical-align: top;\n",
       "    }\n",
       "\n",
       "    .dataframe thead th {\n",
       "        text-align: right;\n",
       "    }\n",
       "</style>\n",
       "<table border=\"1\" class=\"dataframe\">\n",
       "  <thead>\n",
       "    <tr style=\"text-align: right;\">\n",
       "      <th></th>\n",
       "      <th>transaction_date</th>\n",
       "      <th>trade_date</th>\n",
       "      <th>ticker</th>\n",
       "      <th>company_name</th>\n",
       "      <th>owner_name</th>\n",
       "      <th>Title</th>\n",
       "      <th>transaction_type</th>\n",
       "      <th>last_price</th>\n",
       "      <th>Qty</th>\n",
       "      <th>shares_held</th>\n",
       "      <th>Owned</th>\n",
       "      <th>Value</th>\n",
       "    </tr>\n",
       "  </thead>\n",
       "  <tbody>\n",
       "    <tr>\n",
       "      <th>0</th>\n",
       "      <td></td>\n",
       "      <td>2023-05-19 12:13:32</td>\n",
       "      <td>2023-05-18</td>\n",
       "      <td>MMM</td>\n",
       "      <td>Ashish Khandpur K</td>\n",
       "      <td>Group Pres</td>\n",
       "      <td>S - Sale</td>\n",
       "      <td>$99.27</td>\n",
       "      <td>-9,432</td>\n",
       "      <td>22,620</td>\n",
       "      <td>-29%</td>\n",
       "      <td>-$936,306</td>\n",
       "    </tr>\n",
       "    <tr>\n",
       "      <th>1</th>\n",
       "      <td></td>\n",
       "      <td>2023-05-01 10:36:07</td>\n",
       "      <td>2023-04-28</td>\n",
       "      <td>MMM</td>\n",
       "      <td>Hammes Eric D.</td>\n",
       "      <td>EVP, Chief Count Gov Svc Off</td>\n",
       "      <td>S - Sale</td>\n",
       "      <td>$105.33</td>\n",
       "      <td>-6,487</td>\n",
       "      <td>10,430</td>\n",
       "      <td>-38%</td>\n",
       "      <td>-$683,243</td>\n",
       "    </tr>\n",
       "    <tr>\n",
       "      <th>2</th>\n",
       "      <td>D</td>\n",
       "      <td>2022-10-31 09:22:30</td>\n",
       "      <td>2022-10-28</td>\n",
       "      <td>MMM</td>\n",
       "      <td>Rhodes Kevin H</td>\n",
       "      <td>EVP, GC</td>\n",
       "      <td>S - Sale+OE</td>\n",
       "      <td>$126.40</td>\n",
       "      <td>-5,703</td>\n",
       "      <td>2,033</td>\n",
       "      <td>-74%</td>\n",
       "      <td>-$720,842</td>\n",
       "    </tr>\n",
       "    <tr>\n",
       "      <th>3</th>\n",
       "      <td>D</td>\n",
       "      <td>2022-10-31 09:19:51</td>\n",
       "      <td>2022-10-28</td>\n",
       "      <td>MMM</td>\n",
       "      <td>Chavez Rodriguez Beatriz Karina</td>\n",
       "      <td>SVP, Chief Strategy Officer</td>\n",
       "      <td>S - Sale+OE</td>\n",
       "      <td>$126.28</td>\n",
       "      <td>-1,071</td>\n",
       "      <td>5,522</td>\n",
       "      <td>-16%</td>\n",
       "      <td>-$135,246</td>\n",
       "    </tr>\n",
       "    <tr>\n",
       "      <th>4</th>\n",
       "      <td>D</td>\n",
       "      <td>2022-08-18 10:00:16</td>\n",
       "      <td>2022-08-17</td>\n",
       "      <td>MMM</td>\n",
       "      <td>Hammes Eric D.</td>\n",
       "      <td>EVP, Chief Count Gov Svc Off</td>\n",
       "      <td>S - Sale+OE</td>\n",
       "      <td>$147.31</td>\n",
       "      <td>-3,145</td>\n",
       "      <td>8,818</td>\n",
       "      <td>-26%</td>\n",
       "      <td>-$463,294</td>\n",
       "    </tr>\n",
       "    <tr>\n",
       "      <th>...</th>\n",
       "      <td>...</td>\n",
       "      <td>...</td>\n",
       "      <td>...</td>\n",
       "      <td>...</td>\n",
       "      <td>...</td>\n",
       "      <td>...</td>\n",
       "      <td>...</td>\n",
       "      <td>...</td>\n",
       "      <td>...</td>\n",
       "      <td>...</td>\n",
       "      <td>...</td>\n",
       "      <td>...</td>\n",
       "    </tr>\n",
       "    <tr>\n",
       "      <th>107830</th>\n",
       "      <td></td>\n",
       "      <td>2013-02-08 16:20:03</td>\n",
       "      <td>2013-02-06</td>\n",
       "      <td>ZTS</td>\n",
       "      <td>Knupp Catherine A.</td>\n",
       "      <td>EVP</td>\n",
       "      <td>P - Purchase</td>\n",
       "      <td>$26.00</td>\n",
       "      <td>+1,000</td>\n",
       "      <td>1,000</td>\n",
       "      <td>New</td>\n",
       "      <td>+$26,000</td>\n",
       "    </tr>\n",
       "    <tr>\n",
       "      <th>107831</th>\n",
       "      <td>D</td>\n",
       "      <td>2013-02-08 16:19:51</td>\n",
       "      <td>2013-02-06</td>\n",
       "      <td>ZTS</td>\n",
       "      <td>Pfizer Inc</td>\n",
       "      <td>Dir, 10%</td>\n",
       "      <td>S - Sale+OE</td>\n",
       "      <td>$0.00</td>\n",
       "      <td>-99,015,000</td>\n",
       "      <td>0</td>\n",
       "      <td>-100%</td>\n",
       "      <td>-$0</td>\n",
       "    </tr>\n",
       "    <tr>\n",
       "      <th>107832</th>\n",
       "      <td></td>\n",
       "      <td>2013-02-08 16:19:29</td>\n",
       "      <td>2013-02-06</td>\n",
       "      <td>ZTS</td>\n",
       "      <td>Chen Heidi C.</td>\n",
       "      <td>EVP</td>\n",
       "      <td>P - Purchase</td>\n",
       "      <td>$26.00</td>\n",
       "      <td>+2,500</td>\n",
       "      <td>2,500</td>\n",
       "      <td>New</td>\n",
       "      <td>+$65,000</td>\n",
       "    </tr>\n",
       "    <tr>\n",
       "      <th>107833</th>\n",
       "      <td></td>\n",
       "      <td>2013-02-08 16:19:06</td>\n",
       "      <td>2013-02-06</td>\n",
       "      <td>ZTS</td>\n",
       "      <td>Beaty Sandra J.</td>\n",
       "      <td>EVP</td>\n",
       "      <td>P - Purchase</td>\n",
       "      <td>$26.00</td>\n",
       "      <td>+2,000</td>\n",
       "      <td>2,000</td>\n",
       "      <td>New</td>\n",
       "      <td>+$52,000</td>\n",
       "    </tr>\n",
       "    <tr>\n",
       "      <th>107834</th>\n",
       "      <td>D</td>\n",
       "      <td>2013-02-04 19:59:12</td>\n",
       "      <td>2013-02-01</td>\n",
       "      <td>ZTS</td>\n",
       "      <td>Weiskopf Stefan</td>\n",
       "      <td>EVP</td>\n",
       "      <td>P - Purchase</td>\n",
       "      <td>$31.14</td>\n",
       "      <td>+320</td>\n",
       "      <td>320</td>\n",
       "      <td>New</td>\n",
       "      <td>+$9,965</td>\n",
       "    </tr>\n",
       "  </tbody>\n",
       "</table>\n",
       "<p>107835 rows × 12 columns</p>\n",
       "</div>"
      ],
      "text/plain": [
       "       transaction_date           trade_date      ticker company_name  \\\n",
       "0                        2023-05-19 12:13:32  2023-05-18          MMM   \n",
       "1                        2023-05-01 10:36:07  2023-04-28          MMM   \n",
       "2                     D  2022-10-31 09:22:30  2022-10-28          MMM   \n",
       "3                     D  2022-10-31 09:19:51  2022-10-28          MMM   \n",
       "4                     D  2022-08-18 10:00:16  2022-08-17          MMM   \n",
       "...                 ...                  ...         ...          ...   \n",
       "107830                   2013-02-08 16:20:03  2013-02-06          ZTS   \n",
       "107831                D  2013-02-08 16:19:51  2013-02-06          ZTS   \n",
       "107832                   2013-02-08 16:19:29  2013-02-06          ZTS   \n",
       "107833                   2013-02-08 16:19:06  2013-02-06          ZTS   \n",
       "107834                D  2013-02-04 19:59:12  2013-02-01          ZTS   \n",
       "\n",
       "                             owner_name                         Title  \\\n",
       "0                     Ashish Khandpur K                    Group Pres   \n",
       "1                        Hammes Eric D.  EVP, Chief Count Gov Svc Off   \n",
       "2                        Rhodes Kevin H                       EVP, GC   \n",
       "3       Chavez Rodriguez Beatriz Karina   SVP, Chief Strategy Officer   \n",
       "4                        Hammes Eric D.  EVP, Chief Count Gov Svc Off   \n",
       "...                                 ...                           ...   \n",
       "107830               Knupp Catherine A.                           EVP   \n",
       "107831                       Pfizer Inc                      Dir, 10%   \n",
       "107832                    Chen Heidi C.                           EVP   \n",
       "107833                  Beaty Sandra J.                           EVP   \n",
       "107834                  Weiskopf Stefan                           EVP   \n",
       "\n",
       "       transaction_type last_price          Qty shares_held  Owned      Value  \n",
       "0              S - Sale     $99.27       -9,432      22,620   -29%  -$936,306  \n",
       "1              S - Sale    $105.33       -6,487      10,430   -38%  -$683,243  \n",
       "2           S - Sale+OE    $126.40       -5,703       2,033   -74%  -$720,842  \n",
       "3           S - Sale+OE    $126.28       -1,071       5,522   -16%  -$135,246  \n",
       "4           S - Sale+OE    $147.31       -3,145       8,818   -26%  -$463,294  \n",
       "...                 ...        ...          ...         ...    ...        ...  \n",
       "107830     P - Purchase     $26.00       +1,000       1,000    New   +$26,000  \n",
       "107831      S - Sale+OE      $0.00  -99,015,000           0  -100%        -$0  \n",
       "107832     P - Purchase     $26.00       +2,500       2,500    New   +$65,000  \n",
       "107833     P - Purchase     $26.00       +2,000       2,000    New   +$52,000  \n",
       "107834     P - Purchase     $31.14         +320         320    New    +$9,965  \n",
       "\n",
       "[107835 rows x 12 columns]"
      ]
     },
     "execution_count": 54,
     "metadata": {},
     "output_type": "execute_result"
    }
   ],
   "source": [
    "df_output"
   ]
  },
  {
   "cell_type": "code",
   "execution_count": 55,
   "id": "ab3fd9b9-b165-49de-a522-49ecb74c0a2a",
   "metadata": {},
   "outputs": [],
   "source": [
    "df_output.to_csv('open_insider.csv', index=False)"
   ]
  },
  {
   "cell_type": "code",
   "execution_count": null,
   "id": "c2c273e9-3ed5-48b7-98ee-5737bc326cf7",
   "metadata": {},
   "outputs": [],
   "source": []
  }
 ],
 "metadata": {
  "kernelspec": {
   "display_name": "Python 3 (ipykernel)",
   "language": "python",
   "name": "python3"
  },
  "language_info": {
   "codemirror_mode": {
    "name": "ipython",
    "version": 3
   },
   "file_extension": ".py",
   "mimetype": "text/x-python",
   "name": "python",
   "nbconvert_exporter": "python",
   "pygments_lexer": "ipython3",
   "version": "3.11.4"
  }
 },
 "nbformat": 4,
 "nbformat_minor": 5
}
